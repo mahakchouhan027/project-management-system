{
 "cells": [
  {
   "cell_type": "code",
   "execution_count": 8,
   "id": "9a25fb37-5bbb-4400-8d5d-0da75e1bfba7",
   "metadata": {},
   "outputs": [],
   "source": [
    "class BTnode:\n",
    "    def __init__(self,data):\n",
    "        self.Left=None  #this is not a private data\n",
    "        self.data=data  #this is not a private data\n",
    "        self.Right=None #this is not a private data"
   ]
  },
  {
   "cell_type": "code",
   "execution_count": 10,
   "id": "362c78c9-ffac-451e-92b9-575e17f8a32c",
   "metadata": {},
   "outputs": [],
   "source": [
    "n1=BTnode(10)  #n1 is obects node of class."
   ]
  },
  {
   "cell_type": "code",
   "execution_count": 12,
   "id": "a24a3af3-3fb5-44da-9125-5bfc51bbac27",
   "metadata": {},
   "outputs": [],
   "source": [
    "n2=BTnode(20) "
   ]
  },
  {
   "cell_type": "code",
   "execution_count": 20,
   "id": "0dae6b33-3270-467e-84ad-b370c48f218e",
   "metadata": {},
   "outputs": [],
   "source": [
    "n3=BTnode(30)"
   ]
  },
  {
   "cell_type": "code",
   "execution_count": 18,
   "id": "2dfb5424-9f6b-489c-a3e8-2374fc0102c1",
   "metadata": {},
   "outputs": [],
   "source": [
    "n1.Left=n2"
   ]
  },
  {
   "cell_type": "code",
   "execution_count": 22,
   "id": "4896e7a6-ecec-47b2-8e0e-d92cf245003b",
   "metadata": {},
   "outputs": [],
   "source": [
    "n1.Right=n3"
   ]
  },
  {
   "cell_type": "code",
   "execution_count": 24,
   "id": "0e7fedb7-ddea-4507-a05d-bed5b0e64a60",
   "metadata": {},
   "outputs": [],
   "source": [
    "n4=BTnode(40)"
   ]
  },
  {
   "cell_type": "code",
   "execution_count": 26,
   "id": "bc3806d7-794f-4733-9501-3e199c3b83bb",
   "metadata": {},
   "outputs": [],
   "source": [
    "n5=BTnode(50)\n"
   ]
  },
  {
   "cell_type": "code",
   "execution_count": 28,
   "id": "0e88f1ad-b486-4ffb-a857-e2b16604f102",
   "metadata": {},
   "outputs": [],
   "source": [
    "n6=BTnode(60)"
   ]
  },
  {
   "cell_type": "code",
   "execution_count": 30,
   "id": "c38ee3b1-0c20-4723-a3c4-4b4aa1ccca62",
   "metadata": {},
   "outputs": [],
   "source": [
    "n7=BTnode(70)"
   ]
  },
  {
   "cell_type": "code",
   "execution_count": 32,
   "id": "8436e474-ff65-444c-ba13-cbe978b23b79",
   "metadata": {},
   "outputs": [],
   "source": [
    "n2.Left=n4"
   ]
  },
  {
   "cell_type": "code",
   "execution_count": 34,
   "id": "afa9fdb2-ff46-4b59-9c8b-989a84a91191",
   "metadata": {},
   "outputs": [],
   "source": [
    "n2.Right=n5"
   ]
  },
  {
   "cell_type": "code",
   "execution_count": 36,
   "id": "577dabc5-d3e1-487e-803d-04542936e9f5",
   "metadata": {},
   "outputs": [],
   "source": [
    "n3.Left=n6"
   ]
  },
  {
   "cell_type": "code",
   "execution_count": 38,
   "id": "0b31152d-8f7d-4805-a501-beefb3873b12",
   "metadata": {},
   "outputs": [],
   "source": [
    "n3.Right=n7"
   ]
  },
  {
   "cell_type": "code",
   "execution_count": 40,
   "id": "c017f3f2-03b5-4b62-8798-55c54c6abdb1",
   "metadata": {},
   "outputs": [],
   "source": [
    "def pre(root):\n",
    "    if root :\n",
    "        print(root.data)\n",
    "        pre(root.Left)\n",
    "        pre(root.Right)"
   ]
  },
  {
   "cell_type": "code",
   "execution_count": null,
   "id": "0ded3901-7db3-4f36-bc23-319621b4c66a",
   "metadata": {},
   "outputs": [],
   "source": [
    "# Preorder traversal.(root, left, right)"
   ]
  },
  {
   "cell_type": "code",
   "execution_count": 42,
   "id": "a079b96c-ef54-493d-834b-5715bc39cc5b",
   "metadata": {},
   "outputs": [
    {
     "name": "stdout",
     "output_type": "stream",
     "text": [
      "10\n",
      "20\n",
      "40\n",
      "50\n",
      "30\n",
      "60\n",
      "70\n"
     ]
    }
   ],
   "source": [
    "pre(n1)"
   ]
  },
  {
   "cell_type": "code",
   "execution_count": 44,
   "id": "ef1de103-acf2-444c-bd6c-b60bf7415854",
   "metadata": {},
   "outputs": [],
   "source": [
    "n2.left='Mahak'\n",
    "n2.newvar=27"
   ]
  },
  {
   "cell_type": "code",
   "execution_count": 46,
   "id": "50aca58b-76c3-44e1-8f89-1af37571c05c",
   "metadata": {},
   "outputs": [
    {
     "data": {
      "text/plain": [
       "{'Left': <__main__.BTnode at 0x25ee2cf5400>,\n",
       " 'data': 10,\n",
       " 'Right': <__main__.BTnode at 0x25ee5eaf9b0>}"
      ]
     },
     "execution_count": 46,
     "metadata": {},
     "output_type": "execute_result"
    }
   ],
   "source": [
    "n1.__dict__"
   ]
  },
  {
   "cell_type": "code",
   "execution_count": 48,
   "id": "c2b2b4d5-35f7-4186-bd28-d9c4851b420c",
   "metadata": {},
   "outputs": [
    {
     "data": {
      "text/plain": [
       "{'Left': <__main__.BTnode at 0x25ee5eadaf0>,\n",
       " 'data': 20,\n",
       " 'Right': <__main__.BTnode at 0x25ee5eac290>,\n",
       " 'left': 'Mahak',\n",
       " 'newvar': 27}"
      ]
     },
     "execution_count": 48,
     "metadata": {},
     "output_type": "execute_result"
    }
   ],
   "source": [
    "n2.__dict__"
   ]
  },
  {
   "cell_type": "code",
   "execution_count": 51,
   "id": "ace48eae-15c9-468c-ae0e-212c55c5a188",
   "metadata": {},
   "outputs": [
    {
     "data": {
      "text/plain": [
       "{'Left': <__main__.BTnode at 0x25ee5eacd70>,\n",
       " 'data': 30,\n",
       " 'Right': <__main__.BTnode at 0x25ee5eac1a0>}"
      ]
     },
     "execution_count": 51,
     "metadata": {},
     "output_type": "execute_result"
    }
   ],
   "source": [
    "n3.__dict__"
   ]
  },
  {
   "cell_type": "code",
   "execution_count": 57,
   "id": "4bcdad2f-76d0-4063-8579-fdc191981444",
   "metadata": {},
   "outputs": [],
   "source": [
    "def In(root):\n",
    "    if root:\n",
    "        In(root.Left)\n",
    "        print(root.data)\n",
    "        In(root.Right)"
   ]
  },
  {
   "cell_type": "code",
   "execution_count": null,
   "id": "dfa92f0a-4850-47e2-a3e2-448bd4a0aead",
   "metadata": {},
   "outputs": [],
   "source": [
    "#Inoreder traversal.(left, root, right)"
   ]
  },
  {
   "cell_type": "code",
   "execution_count": 59,
   "id": "e6e12b67-4fc6-42ff-be86-a81bba90cd0b",
   "metadata": {},
   "outputs": [
    {
     "name": "stdout",
     "output_type": "stream",
     "text": [
      "40\n",
      "20\n",
      "50\n",
      "10\n",
      "60\n",
      "30\n",
      "70\n"
     ]
    }
   ],
   "source": [
    "In(n1)"
   ]
  },
  {
   "cell_type": "code",
   "execution_count": null,
   "id": "5a0a10a9-17a2-4814-9003-a116d59dac4d",
   "metadata": {},
   "outputs": [],
   "source": [
    "# Postoreder traversal (left, right, root)."
   ]
  },
  {
   "cell_type": "code",
   "execution_count": 76,
   "id": "3c9ffb2c-5382-4a3d-b86b-7ce682cb00e3",
   "metadata": {},
   "outputs": [],
   "source": [
    "def Post(root):\n",
    "    if root:\n",
    "        Post(root.Left)\n",
    "        Post(root.Right)\n",
    "        print(root.data)"
   ]
  },
  {
   "cell_type": "code",
   "execution_count": 78,
   "id": "6b22a273-b1f6-4988-ae9d-1589da96abbd",
   "metadata": {},
   "outputs": [
    {
     "name": "stdout",
     "output_type": "stream",
     "text": [
      "40\n",
      "50\n",
      "20\n",
      "60\n",
      "70\n",
      "30\n",
      "10\n"
     ]
    }
   ],
   "source": [
    "Post(n1)"
   ]
  }
 ],
 "metadata": {
  "kernelspec": {
   "display_name": "Python 3 (ipykernel)",
   "language": "python",
   "name": "python3"
  },
  "language_info": {
   "codemirror_mode": {
    "name": "ipython",
    "version": 3
   },
   "file_extension": ".py",
   "mimetype": "text/x-python",
   "name": "python",
   "nbconvert_exporter": "python",
   "pygments_lexer": "ipython3",
   "version": "3.12.4"
  }
 },
 "nbformat": 4,
 "nbformat_minor": 5
}
